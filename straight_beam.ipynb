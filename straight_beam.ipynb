{
 "cells": [
  {
   "cell_type": "markdown",
   "metadata": {},
   "source": [
    "# Inflatable straight beam in a wind tunnel\n",
    "\n",
    "An inflatable tube kite is supported by two bridle lines at the tips of the wing. The bridle lines merge below the kite to the main tether. The wind velocity is in-plane direction and causes a distributed lift load $q=\\frac{1}{2}\\rho U^2 c_L c$ where $\\rho$ is the density of the air, $U$ is the apparent wind velocity, $c_L$ is the section lift coefficient and $c$ is the chord length."
   ]
  },
  {
   "cell_type": "markdown",
   "metadata": {},
   "source": [
    "![straight beam](img/straight_beam.svg)"
   ]
  },
  {
   "cell_type": "markdown",
   "metadata": {},
   "source": [
    "The tether tension is $T=qb$ and the bridle line tension is given by \n",
    "$$\n",
    "B_y = \\frac{1}{2} T \\\\\n",
    "B = \\frac{B_y}{\\sin \\alpha} = \\frac{T}{2 \\sin \\alpha}.\n",
    "$$\n",
    "The bridle lines pull the beam from the tips which induces a compressive normal force $B_x=B \\cos \\alpha=\\frac{T \\cos \\alpha}{2 \\sin \\alpha} = \\frac{T }{2 \\tan \\alpha}$. The bridle lines are attached at the bottom of the beam but the eccentricity of the attachment points is not taken into account.\n",
    "The beam has the highest bending moment in the middle $M=\\frac{1}{8} q b^2$ which results in a maximum compressive stress at the lowermost location of the beam. The maximum compressive stress in axial direction from the bending moment is given by\n",
    "$\\sigma_{BM} = \\frac{M r}{I}$\n",
    "where I is the second moment of area. The combined stresses in axial direction are\n",
    "$$\n",
    "\\sigma_x = p - \\frac{B_x}{A} - \\frac{M r}{I}\\\\\n",
    "$$\n",
    "where $A$ is the area of the cross-section. The combined stresses at the middle of the beam are illustrated as follows"
   ]
  },
  {
   "cell_type": "code",
   "execution_count": 1,
   "metadata": {},
   "outputs": [
    {
     "data": {
      "image/png": "[encoded data removed]",
      "text/plain": [
       "<Figure size 1440x432 with 1 Axes>"
      ]
     },
     "metadata": {
      "needs_background": "light"
     },
     "output_type": "display_data"
    }
   ],
   "source": [
    "import numpy as np\n",
    "import matplotlib.pyplot as plt\n",
    "\n",
    "fig, ax = plt.subplots(1,figsize=(20,6))\n",
    "n = 20\n",
    "scale = 2\n",
    "pressure = 1 * np.ones(n)\n",
    "compression = -0.25 * np.ones(n)\n",
    "bending = 0.75 * np.linspace(-1,1,n)\n",
    "net = pressure + compression + bending\n",
    "loads = [pressure, compression, bending, net]\n",
    "y = np.linspace(0,1,n)\n",
    "operators = ['+','+','=',None]\n",
    "labels = ['$p$', '$\\dfrac{B_x}{A}$', '$\\dfrac{M r}{I}$','Sum'] \n",
    "label_names = ['pressure', 'compression', 'bending','sum']\n",
    "for i, (l, op, label) in enumerate(zip(loads, operators, labels)):\n",
    "    ax.quiver(i*1 + np.zeros(n), y, l, 0, scale=scale, units='xy', width=0.01)\n",
    "    ax.plot([i*1, i*1],[0,1],color='k')\n",
    "    if i != len(loads)-1:\n",
    "        annx = (i + (i+1) + (np.max(np.append(l,0))+ np.min(np.append(loads[i+1],0)))/scale)/2\n",
    "        ax.annotate(op, (annx, 0.5), fontsize=30, ha='center', va='center')\n",
    "    ax.annotate(label, (i + np.mean(l)/2/scale,1.1),ha='center', fontsize=20)\n",
    "ax.annotate('$\\sigma_x$   =', (-0.3, 0.5), ha='center', fontsize=30)\n",
    "ax.set_xlim(-0.3,4.5)\n",
    "ax.set_ylim(-0.05, 1.2)\n",
    "plt.axis('off')\n",
    "plt.tight_layout()\n",
    "plt.show()"
   ]
  },
  {
   "cell_type": "markdown",
   "metadata": {},
   "source": [
    "The area and the second moment of area of a circle are given by $A = \\pi r^2$ and $I=\\frac{\\pi r^4}{4}$ respectively\n",
    "$$\n",
    "\\sigma_x = p - \\frac{T}{2\\pi r^2  \\tan \\alpha} - \\frac{q b^2 r}{2 \\pi r^4}\\\\\n",
    "\\sigma_x = p - \\frac{qb}{2\\pi r^2}\\left(\\frac{1}{\\tan \\alpha}-\\frac{b}{r}\\right)\n",
    "$$\n",
    "The wrinkling starts when the compressive axial stresses from normal force and bending exceed the internal pressure"
   ]
  },
  {
   "cell_type": "markdown",
   "metadata": {},
   "source": [
    "$$p=\\frac{1}{2}\\frac{qb}{\\pi r^2}\\left(\\frac{1}{\\tan \\alpha}+\\frac{b}{r}\\right)$$"
   ]
  },
  {
   "cell_type": "markdown",
   "metadata": {},
   "source": [
    "The ratio between the compressive stresses from the normal force and the bending moment is given by\n",
    "$R=\\frac{r}{b \\tan \\alpha}$"
   ]
  },
  {
   "cell_type": "markdown",
   "metadata": {},
   "source": [
    "### Example 1: V3 LEI kite\n",
    "\n",
    "Let us put the kite in the wind tunnel with 30 m/s wind velocity. The front bridle line is assumed to take half of the loading and therefore the chord length is $c=1.35 m$. The section lift coefficient is assumed $c_L = 1.2$. What is the required pre-inflation pressure to keep the kite taut?\n",
    "$$\n",
    "\\begin{aligned}\n",
    "q&=\\frac{1}{2}\\rho U^2 c_L b\\\\\n",
    "\\rho&=1.2kg/m^3 \\\\\n",
    "U&=30m/s \\\\\n",
    "c_L&=1\\\\\n",
    "b&=1m\\\\\n",
    "r&=0.1m\n",
    "\\end{aligned}\n",
    "$$\n",
    "\n",
    "The span of the V3 kite is the length of the beam and the KCU hangs 11 meters below the kite. Then \n",
    "$$\\tan \\alpha = \\frac{11m}{4.15m}$$"
   ]
  },
  {
   "cell_type": "code",
   "execution_count": 2,
   "metadata": {},
   "outputs": [
    {
     "name": "stdout",
     "output_type": "stream",
     "text": [
      "Required pre-inflation pressure is p > 1.2 bar which is 140.8 % higher than 0.5 bar\n"
     ]
    }
   ],
   "source": [
    "import numpy as np\n",
    "rho   = 1.2\n",
    "U     = 30\n",
    "cl    = 1\n",
    "c     = 1.35\n",
    "b     = 1\n",
    "q     = 0.5 * rho * U**2 * cl * c\n",
    "r     = 0.1\n",
    "alpha = np.arctan(11/4.15)\n",
    "p     = 0.5 * q * b / np.pi / r**2 * (1 / np.tan(alpha) + b / r)\n",
    "print(\"Required pre-inflation pressure is p > {:.2} bar which is {:.1f} % higher than 0.5 bar\".format(p / 1e5, p/0.5e5*100-100))"
   ]
  },
  {
   "cell_type": "markdown",
   "metadata": {},
   "source": [
    "Usually, the inflatable tube kites are pre-inflated to $p=0.5$ bar and therefore the kite would collapse under assumed loading. Let us calculate the required radius for taut condition when pressure is $p=0.5$ bar."
   ]
  },
  {
   "cell_type": "code",
   "execution_count": 3,
   "metadata": {},
   "outputs": [
    {
     "name": "stdout",
     "output_type": "stream",
     "text": [
      "Required radius r = 0.135 m (34.6 % increase)\n"
     ]
    }
   ],
   "source": [
    "import scipy.optimize\n",
    "p=0.5e5\n",
    "def f(ri):\n",
    "    return p - 0.5 * q * b / np.pi / ri**2 * (1 / np.tan(alpha) + b / ri)\n",
    "r_05bar = scipy.optimize.broyden1(f, 0.2, f_tol=1e-10)\n",
    "print(\"Required radius r = {:.3} m ({:.1f} % increase)\".format(r_05bar, r_05bar/r*100-100))"
   ]
  },
  {
   "cell_type": "markdown",
   "metadata": {},
   "source": [
    "So to prevent the collapse of the kite, either the radius has to be increased by 35 % or the pre-inflation pressure has to be increased by 141 %. \n",
    "The ratio of axial stresses from the normal force and the bending moment is given by"
   ]
  },
  {
   "cell_type": "code",
   "execution_count": 4,
   "metadata": {},
   "outputs": [
    {
     "name": "stdout",
     "output_type": "stream",
     "text": [
      "ratio = 3.8%\n"
     ]
    }
   ],
   "source": [
    "print(\"ratio = {:.2}%\".format(r/b/np.tan(alpha)*1e2))"
   ]
  },
  {
   "cell_type": "markdown",
   "metadata": {},
   "source": [
    "The compression from the bending moment dominates the compression from the bridle line system."
   ]
  }
 ],
 "metadata": {
  "kernelspec": {
   "display_name": "Python 3",
   "language": "python",
   "name": "python3"
  },
  "language_info": {
   "codemirror_mode": {
    "name": "ipython",
    "version": 3
   },
   "file_extension": ".py",
   "mimetype": "text/x-python",
   "name": "python",
   "nbconvert_exporter": "python",
   "pygments_lexer": "ipython3",
   "version": "3.7.4"
  }
 },
 "nbformat": 4,
 "nbformat_minor": 4
}
